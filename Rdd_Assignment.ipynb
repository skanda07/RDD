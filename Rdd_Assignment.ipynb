{
  "nbformat": 4,
  "nbformat_minor": 0,
  "metadata": {
    "colab": {
      "name": "Rdd_Assignment.ipynb",
      "provenance": [],
      "collapsed_sections": []
    },
    "kernelspec": {
      "name": "python3",
      "display_name": "Python 3"
    }
  },
  "cells": [
    {
      "cell_type": "code",
      "metadata": {
        "id": "zC2fq-WctmYT"
      },
      "source": [
        "!apt-get install openjdk-8-jdk-headless -qq > /dev/null\r\n",
        "!wget -q ftp://mirror.klaus-uwe.me/apache/spark/spark-2.4.7/spark-2.4.7-bin-hadoop2.7.tgz\r\n",
        "!tar xf spark-2.4.7-bin-hadoop2.7.tgz\r\n",
        "!pip install -q findspark"
      ],
      "execution_count": 1,
      "outputs": []
    },
    {
      "cell_type": "code",
      "metadata": {
        "id": "KrYeNeV5uI59"
      },
      "source": [
        "import os\r\n",
        "os.environ[\"JAVA_HOME\"] = \"/usr/lib/jvm/java-8-openjdk-amd64\"\r\n",
        "os.environ[\"SPARK_HOME\"] = \"/content/spark-2.4.7-bin-hadoop2.7\""
      ],
      "execution_count": 2,
      "outputs": []
    },
    {
      "cell_type": "code",
      "metadata": {
        "id": "CWuNHL04vbKe"
      },
      "source": [
        "import findspark\r\n",
        "findspark.init(\"spark-2.4.7-bin-hadoop2.7\")# SPARK_HOME\r\n",
        "\r\n",
        "import pyspark\r\n",
        "import re\r\n",
        "from pyspark.sql import SparkSession\r\n",
        "spark = SparkSession.builder.appName('RDD Assignment').getOrCreate()"
      ],
      "execution_count": 5,
      "outputs": []
    },
    {
      "cell_type": "markdown",
      "metadata": {
        "id": "wIh4t1b4u9Gd"
      },
      "source": [
        "# **Question-1 Create RDDs in threee different ways**"
      ]
    },
    {
      "cell_type": "markdown",
      "metadata": {
        "id": "8eZ9l3_iwbXW"
      },
      "source": [
        "**1. Using parallelize method**"
      ]
    },
    {
      "cell_type": "code",
      "metadata": {
        "id": "QImuJOxlvu-E",
        "colab": {
          "base_uri": "https://localhost:8080/"
        },
        "outputId": "a7278067-4c96-454e-9ce9-a895df38fe49"
      },
      "source": [
        "rdd_par = spark.sparkContext.parallelize([\"Hello world\", \"Hope you are bot fed with ABD class\", \"ello\"])\r\n",
        "print(rdd_par.count())"
      ],
      "execution_count": 7,
      "outputs": [
        {
          "output_type": "stream",
          "text": [
            "4\n"
          ],
          "name": "stdout"
        }
      ]
    },
    {
      "cell_type": "markdown",
      "metadata": {
        "id": "3CL27vQK0brV"
      },
      "source": [
        "**2. Using transformation**"
      ]
    },
    {
      "cell_type": "code",
      "metadata": {
        "colab": {
          "base_uri": "https://localhost:8080/"
        },
        "id": "SyLmLOse0eDx",
        "outputId": "60b1796b-8615-4a65-8f58-96dcf375eb23"
      },
      "source": [
        "rdd_trans = rdd_par.filter(lambda word: word.startswith('H'))\r\n",
        "print(rdd_trans)\r\n",
        "print(rdd_trans.collect())"
      ],
      "execution_count": 10,
      "outputs": [
        {
          "output_type": "stream",
          "text": [
            "PythonRDD[5] at RDD at PythonRDD.scala:53\n",
            "['Hello world', 'Hope you are bot fed with ABD class']\n"
          ],
          "name": "stdout"
        }
      ]
    },
    {
      "cell_type": "markdown",
      "metadata": {
        "id": "zmbT4zBN1r5h"
      },
      "source": [
        "***3. Using data source***"
      ]
    },
    {
      "cell_type": "code",
      "metadata": {
        "colab": {
          "base_uri": "https://localhost:8080/"
        },
        "id": "5I9qlDbG1sdj",
        "outputId": "d763b5e9-7590-4082-bc97-c6e2919a809c"
      },
      "source": [
        "rdd_ds = spark.sparkContext.textFile('gameofthrones.txt')\r\n",
        "print(rdd_ds.collect())"
      ],
      "execution_count": 36,
      "outputs": [
        {
          "output_type": "stream",
          "text": [
            "['Game of Thrones is an American fantasy drama television series created by David Benioff and D. B. Weiss for HBO. It is an adaptation of A Song of Ice and Fire, a series of fantasy novels by George R. R. Martin, the first of which is A Game of Thrones. The show was shot in the United Kingdom, Canada, Croatia, Iceland, Malta, Morocco, and Spain. It premiered on HBO in the United States on April 17, 2011, and concluded on May 19, 2019, with 73 episodes broadcast over eight seasons.', '', \"Set on the fictional continents of Westeros and Essos, Game of Thrones has a large ensemble cast and follows several story arcs throughout the course of the show. A major arc concerns the Iron Throne of the Seven Kingdoms of Westeros and follows a web of alliances and conflicts among the noble dynasties, either vying to claim the throne or fighting for independence from it. Another focuses on the last descendant of the realm's deposed ruling dynasty, who has been exiled to Essos and is plotting a return to the throne. A third story arc follows the Night's Watch, a military order defending the realm against threats from the North.\", '', 'Game of Thrones attracted a record viewership on HBO and has a broad, active, and international fan base. Critics have praised the series for its acting, complex characters, story, scope, and production values, although its frequent use of nudity and violence (including sexual violence) has been subject to criticism. The final season received significant critical backlash for its reduced length and creative decisions, with many considering it a disappointing conclusion. The series received 59 Primetime Emmy Awards, the most by a drama series, including Outstanding Drama Series in 2015, 2016, 2018 and 2019. Its other awards and nominations include three Hugo Awards for Best Dramatic Presentation, a Peabody Award, and five nominations for the Golden Globe Award for Best Television Series – Drama. Many critics and publications have named the show as one of the best television series of all time.']\n"
          ],
          "name": "stdout"
        }
      ]
    },
    {
      "cell_type": "markdown",
      "metadata": {
        "id": "_ygn5qTy25zO"
      },
      "source": [
        "# **Read a text file and count the number of words in the file using RDD operations.**"
      ]
    },
    {
      "cell_type": "code",
      "metadata": {
        "colab": {
          "base_uri": "https://localhost:8080/"
        },
        "id": "bF9TRl7p3R8g",
        "outputId": "9f07cd10-2b2e-4c33-97f2-0b129dfc85ed"
      },
      "source": [
        "rdd = spark.sparkContext.textFile('gameofthrones.txt')\r\n",
        "word_rdd = rdd.flatMap(lambda line : line.split(' '))\r\n",
        "filtered_word = word_rdd.filter(lambda word : len(word) > 0)\r\n",
        "print(f'Number of words in the file is {filtered_word.count()}')"
      ],
      "execution_count": 37,
      "outputs": [
        {
          "output_type": "stream",
          "text": [
            "Number of words in the file is 341\n"
          ],
          "name": "stdout"
        }
      ]
    },
    {
      "cell_type": "markdown",
      "metadata": {
        "id": "jPI_INGp8yZH"
      },
      "source": [
        "## Write a program to find the word frequency in a given file."
      ]
    },
    {
      "cell_type": "code",
      "metadata": {
        "colab": {
          "base_uri": "https://localhost:8080/"
        },
        "id": "c4XE4SC386Ue",
        "outputId": "5cf9bd4f-6de3-4c78-c1fe-b0286c84c867"
      },
      "source": [
        "rdd = spark.sparkContext.textFile('gameofthrones.txt')\r\n",
        "filtered_lines = rdd.filter(lambda line : line.strip()) # to remove lines that are empty\r\n",
        "word_rdd = filtered_lines.flatMap(lambda line : line.split(' '))\r\n",
        "freq_words = word_rdd.map(lambda word : (word, 1))\r\n",
        "sorted(freq_words.reduceByKey(lambda a,b : a + b).collect(),\r\n",
        "key=lambda x:x[1], reverse=True)\r\n"
      ],
      "execution_count": 38,
      "outputs": [
        {
          "output_type": "execute_result",
          "data": {
            "text/plain": [
              "[('the', 21),\n",
              " ('and', 18),\n",
              " ('of', 17),\n",
              " ('a', 10),\n",
              " ('for', 7),\n",
              " ('on', 6),\n",
              " ('series', 5),\n",
              " ('is', 4),\n",
              " ('Game', 4),\n",
              " ('A', 4),\n",
              " ('has', 4),\n",
              " ('to', 4),\n",
              " ('The', 3),\n",
              " ('in', 3),\n",
              " ('follows', 3),\n",
              " ('Thrones', 3),\n",
              " ('by', 3),\n",
              " ('its', 3),\n",
              " ('an', 2),\n",
              " ('drama', 2),\n",
              " ('television', 2),\n",
              " ('It', 2),\n",
              " ('R.', 2),\n",
              " ('United', 2),\n",
              " ('story', 2),\n",
              " ('have', 2),\n",
              " ('Series', 2),\n",
              " ('fantasy', 2),\n",
              " ('show', 2),\n",
              " ('HBO', 2),\n",
              " ('with', 2),\n",
              " ('Westeros', 2),\n",
              " ('arc', 2),\n",
              " ('from', 2),\n",
              " ('been', 2),\n",
              " ('received', 2),\n",
              " ('nominations', 2),\n",
              " ('Best', 2),\n",
              " ('American', 1),\n",
              " ('created', 1),\n",
              " ('adaptation', 1),\n",
              " ('Fire,', 1),\n",
              " ('Thrones.', 1),\n",
              " ('was', 1),\n",
              " ('Croatia,', 1),\n",
              " ('Iceland,', 1),\n",
              " ('Malta,', 1),\n",
              " ('Morocco,', 1),\n",
              " ('States', 1),\n",
              " ('May', 1),\n",
              " ('2019,', 1),\n",
              " ('73', 1),\n",
              " ('broadcast', 1),\n",
              " ('eight', 1),\n",
              " ('Set', 1),\n",
              " ('continents', 1),\n",
              " ('large', 1),\n",
              " ('ensemble', 1),\n",
              " ('cast', 1),\n",
              " ('several', 1),\n",
              " ('show.', 1),\n",
              " ('major', 1),\n",
              " ('concerns', 1),\n",
              " ('Iron', 1),\n",
              " ('alliances', 1),\n",
              " ('conflicts', 1),\n",
              " ('noble', 1),\n",
              " ('dynasties,', 1),\n",
              " ('vying', 1),\n",
              " ('claim', 1),\n",
              " ('throne', 1),\n",
              " ('fighting', 1),\n",
              " ('independence', 1),\n",
              " ('it.', 1),\n",
              " ('Another', 1),\n",
              " ('last', 1),\n",
              " ('deposed', 1),\n",
              " ('ruling', 1),\n",
              " ('dynasty,', 1),\n",
              " ('Essos', 1),\n",
              " ('throne.', 1),\n",
              " ('third', 1),\n",
              " (\"Night's\", 1),\n",
              " ('realm', 1),\n",
              " ('against', 1),\n",
              " ('North.', 1),\n",
              " ('attracted', 1),\n",
              " ('record', 1),\n",
              " ('broad,', 1),\n",
              " ('active,', 1),\n",
              " ('praised', 1),\n",
              " ('acting,', 1),\n",
              " ('characters,', 1),\n",
              " ('story,', 1),\n",
              " ('scope,', 1),\n",
              " ('production', 1),\n",
              " ('values,', 1),\n",
              " ('although', 1),\n",
              " ('use', 1),\n",
              " ('nudity', 1),\n",
              " ('(including', 1),\n",
              " ('sexual', 1),\n",
              " ('violence)', 1),\n",
              " ('subject', 1),\n",
              " ('criticism.', 1),\n",
              " ('significant', 1),\n",
              " ('backlash', 1),\n",
              " ('length', 1),\n",
              " ('creative', 1),\n",
              " ('decisions,', 1),\n",
              " ('conclusion.', 1),\n",
              " ('Primetime', 1),\n",
              " ('Emmy', 1),\n",
              " ('Awards,', 1),\n",
              " ('series,', 1),\n",
              " ('Drama', 1),\n",
              " ('2015,', 1),\n",
              " ('2019.', 1),\n",
              " ('Its', 1),\n",
              " ('other', 1),\n",
              " ('awards', 1),\n",
              " ('include', 1),\n",
              " ('three', 1),\n",
              " ('Dramatic', 1),\n",
              " ('Presentation,', 1),\n",
              " ('Golden', 1),\n",
              " ('Globe', 1),\n",
              " ('Drama.', 1),\n",
              " ('publications', 1),\n",
              " ('named', 1),\n",
              " ('as', 1),\n",
              " ('best', 1),\n",
              " ('David', 1),\n",
              " ('Benioff', 1),\n",
              " ('D.', 1),\n",
              " ('B.', 1),\n",
              " ('Weiss', 1),\n",
              " ('HBO.', 1),\n",
              " ('Song', 1),\n",
              " ('Ice', 1),\n",
              " ('novels', 1),\n",
              " ('George', 1),\n",
              " ('Martin,', 1),\n",
              " ('first', 1),\n",
              " ('which', 1),\n",
              " ('shot', 1),\n",
              " ('Kingdom,', 1),\n",
              " ('Canada,', 1),\n",
              " ('Spain.', 1),\n",
              " ('premiered', 1),\n",
              " ('April', 1),\n",
              " ('17,', 1),\n",
              " ('2011,', 1),\n",
              " ('concluded', 1),\n",
              " ('19,', 1),\n",
              " ('episodes', 1),\n",
              " ('over', 1),\n",
              " ('seasons.', 1),\n",
              " ('fictional', 1),\n",
              " ('Essos,', 1),\n",
              " ('arcs', 1),\n",
              " ('throughout', 1),\n",
              " ('course', 1),\n",
              " ('Throne', 1),\n",
              " ('Seven', 1),\n",
              " ('Kingdoms', 1),\n",
              " ('web', 1),\n",
              " ('among', 1),\n",
              " ('either', 1),\n",
              " ('or', 1),\n",
              " ('focuses', 1),\n",
              " ('descendant', 1),\n",
              " (\"realm's\", 1),\n",
              " ('who', 1),\n",
              " ('exiled', 1),\n",
              " ('plotting', 1),\n",
              " ('return', 1),\n",
              " ('Watch,', 1),\n",
              " ('military', 1),\n",
              " ('order', 1),\n",
              " ('defending', 1),\n",
              " ('threats', 1),\n",
              " ('viewership', 1),\n",
              " ('international', 1),\n",
              " ('fan', 1),\n",
              " ('base.', 1),\n",
              " ('Critics', 1),\n",
              " ('complex', 1),\n",
              " ('frequent', 1),\n",
              " ('violence', 1),\n",
              " ('final', 1),\n",
              " ('season', 1),\n",
              " ('critical', 1),\n",
              " ('reduced', 1),\n",
              " ('many', 1),\n",
              " ('considering', 1),\n",
              " ('it', 1),\n",
              " ('disappointing', 1),\n",
              " ('59', 1),\n",
              " ('most', 1),\n",
              " ('including', 1),\n",
              " ('Outstanding', 1),\n",
              " ('2016,', 1),\n",
              " ('2018', 1),\n",
              " ('Hugo', 1),\n",
              " ('Awards', 1),\n",
              " ('Peabody', 1),\n",
              " ('Award,', 1),\n",
              " ('five', 1),\n",
              " ('Award', 1),\n",
              " ('Television', 1),\n",
              " ('–', 1),\n",
              " ('Many', 1),\n",
              " ('critics', 1),\n",
              " ('one', 1),\n",
              " ('all', 1),\n",
              " ('time.', 1)]"
            ]
          },
          "metadata": {
            "tags": []
          },
          "execution_count": 38
        }
      ]
    },
    {
      "cell_type": "markdown",
      "metadata": {
        "id": "XY-1ewZBQET-"
      },
      "source": [
        "# Write a program to convert all words in a file to uppercase."
      ]
    },
    {
      "cell_type": "code",
      "metadata": {
        "id": "5PlvVzHsQPsC"
      },
      "source": [
        "rdd=spark.sparkContext.textFile('gameofthrones.txt')\r\n",
        "converted_rdd = rdd.flatMap(lambda line : line.split(' '))\r\n",
        "converted_rdd = rdd.map(lambda line : line.upper())\r\n",
        "with open('Uppercase.txt', 'w') as f:\r\n",
        "    for i in converted_rdd.collect():\r\n",
        "        f.write(f'{i}\\n')\r\n"
      ],
      "execution_count": 39,
      "outputs": []
    },
    {
      "cell_type": "markdown",
      "metadata": {
        "id": "ax2W07fRTDai"
      },
      "source": [
        "# Write a program to convert all words in a file to lowercase."
      ]
    },
    {
      "cell_type": "code",
      "metadata": {
        "id": "O3Z5vqbES8Ce"
      },
      "source": [
        "rdd=spark.sparkContext.textFile('gameofthrones.txt')\r\n",
        "converted_rdd = rdd.flatMap(lambda line : line.split(' '))\r\n",
        "converted_rdd = rdd.map(lambda line : line.lower())\r\n",
        "with open('Lowercase.txt', 'w') as f:\r\n",
        "    for i in converted_rdd.collect():\r\n",
        "        f.write(f'{i}\\n')\r\n"
      ],
      "execution_count": 40,
      "outputs": []
    },
    {
      "cell_type": "markdown",
      "metadata": {
        "id": "r7lwVRI-TVue"
      },
      "source": [
        "# Write a program to capitalize first letter of each words in file (use string capitalize() method)."
      ]
    },
    {
      "cell_type": "code",
      "metadata": {
        "id": "te9DSjeNTg_6"
      },
      "source": [
        "rdd = spark.sparkContext.textFile('gameofthrones.txt')\r\n",
        "converted_rdd = rdd.flatMap(lambda line : line.split(' '))\r\n",
        "converted_rdd = converted_rdd.map(lambda word : word.capitalize())\r\n",
        "with open('Capital.txt', 'w') as f:\r\n",
        "    for line in converted_rdd.collect():\r\n",
        "        f.write(f'{line}\\n')"
      ],
      "execution_count": 42,
      "outputs": []
    },
    {
      "cell_type": "markdown",
      "metadata": {
        "id": "Tp4EFwtTUJH5"
      },
      "source": [
        "# Find the longest length of word from given set of words."
      ]
    },
    {
      "cell_type": "code",
      "metadata": {
        "colab": {
          "base_uri": "https://localhost:8080/"
        },
        "id": "YdMp10yVUQbO",
        "outputId": "6467c657-83ea-4180-f585-c5a86a209772"
      },
      "source": [
        "rdd = spark.sparkContext.textFile('gameofthrones.txt')\r\n",
        "word_rdd = rdd.flatMap(lambda line : line.split(' '))\r\n",
        "max_word = word_rdd.max()\r\n",
        "print(f'Max length word is {max_word} with length {len(max_word)}')"
      ],
      "execution_count": 43,
      "outputs": [
        {
          "output_type": "stream",
          "text": [
            "Max length word is – with length 1\n"
          ],
          "name": "stdout"
        }
      ]
    },
    {
      "cell_type": "markdown",
      "metadata": {
        "id": "m8dlF31XWh8m"
      },
      "source": [
        "### Map the Registration numbers to corresponding branch. \r\n",
        "\r\n",
        "* 1000 series ML\r\n",
        "* 2000 series VLSI\r\n",
        "* 3000 series ES\r\n",
        "* 4000 series MSc\r\n",
        "* 5000 series CC\r\n",
        "* 6000 series BDA\r\n",
        "* 9000 series HDA\r\n",
        "\r\n",
        "Given registration number, generate a key-value pair of Registration Number and Corresponding Branch."
      ]
    },
    {
      "cell_type": "code",
      "metadata": {
        "id": "0ILESDCyW9Qd"
      },
      "source": [
        "import numpy as np\r\n",
        "# before running please delete the regProg folder\r\n",
        "program = {\r\n",
        "    1: 'ML', 2: 'VLSI', 3: 'ES', 4: 'MSc', 5: 'CC', 6: 'BDA', 9: 'HDA'\r\n",
        "}\r\n",
        "\r\n",
        "rdd = spark.sparkContext.textFile('reg.txt')\r\n",
        "reg_rdd = rdd.map(lambda x : (x, program[int(x) // 1000]) if int(x) // 1000 in program else (x, np.nan))\r\n",
        "reg_rdd.collect()\r\n",
        "reg_rdd.saveAsTextFile('regProg')"
      ],
      "execution_count": 32,
      "outputs": []
    },
    {
      "cell_type": "markdown",
      "metadata": {
        "id": "wXuLiL_hXyqn"
      },
      "source": [
        "#Text file contain numbers. Numbers are separated by one white space. There is no order to store the numbers. One line may contain one or more numbers. Find the maximum, minimum, sum and mean of numbers."
      ]
    },
    {
      "cell_type": "code",
      "metadata": {
        "colab": {
          "base_uri": "https://localhost:8080/"
        },
        "id": "mRqBbQoBX3Ls",
        "outputId": "898693b4-48bb-4c76-b74c-4aa3b41de37b"
      },
      "source": [
        "rdd = spark.sparkContext.textFile('numbers.txt')\r\n",
        "text_num_rdd = rdd.flatMap(lambda x : x.split(' '))\r\n",
        "num_rdd = text_num_rdd.map(lambda x : float(x))\r\n",
        "max_num = num_rdd.max()\r\n",
        "min_num = num_rdd.min()\r\n",
        "sum_num = num_rdd.sum()\r\n",
        "mean_num = num_rdd.mean()\r\n",
        "print(f'Max number = {max_num}')\r\n",
        "print(f'Min number = {min_num}')\r\n",
        "print(f'Sum of numbers = {sum_num}')\r\n",
        "print(f'Mean of numbers = {mean_num}')"
      ],
      "execution_count": 33,
      "outputs": [
        {
          "output_type": "stream",
          "text": [
            "Max number = 2212.1\n",
            "Min number = 1.7\n",
            "Sum of numbers = 522656.4200000001\n",
            "Mean of numbers = 519.5391848906563\n"
          ],
          "name": "stdout"
        }
      ]
    },
    {
      "cell_type": "markdown",
      "metadata": {
        "id": "beHtcOgbYB1T"
      },
      "source": [
        "# A text file (citizen.txt) contains data about citizens of country. Fields (information in file) are Name, dob, Phone, email and state name. Another file contains mapping of state names to state code like Karnataka is codes as KA, TamilNadu as TN, Kerala KL etc. Compress the citizen.txt file by changing full state name to state code"
      ]
    },
    {
      "cell_type": "code",
      "metadata": {
        "colab": {
          "base_uri": "https://localhost:8080/"
        },
        "id": "wIR3QBWAYIiZ",
        "outputId": "c4e4470e-ecff-4592-e2a0-fec4b638ab3b"
      },
      "source": [
        "# Remove compressed_citizen_df before running\r\n",
        "state_mapping = spark.read.csv(\"state_mapping.txt\", inferSchema=True, header=True)\r\n",
        "state_mapping = map(lambda row : row.asDict(), state_mapping.collect())\r\n",
        "state_mapping = {state['state']: state['statecode'] for state in state_mapping}\r\n",
        "\r\n",
        "citizen_df = spark.read.csv(\"citizen.txt\", inferSchema=True, header=True)\r\n",
        "updated_citizen_df = citizen_df.na.replace(state_mapping, 1)\r\n",
        "updated_citizen_df.write.csv('compressed_citizen_df', header=True)"
      ],
      "execution_count": 34,
      "outputs": [
        {
          "output_type": "stream",
          "text": [
            "spark-2.4.7-bin-hadoop2.7/python/pyspark/sql/dataframe.py:1801: UserWarning: to_replace is a dict and value is not None. value will be ignored.\n",
            "  warnings.warn(\"to_replace is a dict and value is not None. value will be ignored.\")\n"
          ],
          "name": "stderr"
        }
      ]
    }
  ]
}